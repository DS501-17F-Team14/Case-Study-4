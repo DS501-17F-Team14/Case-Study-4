{
 "cells": [
  {
   "cell_type": "markdown",
   "metadata": {},
   "source": [
    "### Case Study 4 :  Data Science Shark Tank:  Pitch Your Ideas\n",
    "\n",
    "** Due Date: December 7, 6pm**\n",
    "BEFORE the beginning of class at 6:00pm\n",
    "NOTE: There are always last minute issues submitting the case studies. DO NOT WAIT UNTIL THE LAST MINUTE!\n",
    "\n",
    "<img src=\"https://cp.inkrefuge.com/images%5Cpressreleases/shark%20tank_large.jpg\" width=\"400px\"> "
   ]
  },
  {
   "cell_type": "markdown",
   "metadata": {},
   "source": [
    "After the previous 3 case studies,  your team is now equipped with the three powerful skills of data science: Hacking skill, Business skill and Math skill. In this project, your team is going to make use of these skills to come up with an idea of a new business/startup based upon data science technology. Your goal is to design a better service/solution on any data you like, develop a prototype/demo and prepare a pitch for your idea.\n",
    "* Your team needs to decide which business problem is important for the market you are joining in (for example, social media market, housing market, search market, etc.).\n",
    "* Then design a data science approach to improve one of the current services or design a new service on any data that you choose.\n",
    "* The solution should include all the three components of data science: 1) the business part to analyze the potential impact of your new/improved service, why the idea can make money, how much are you evaluating the company; How are you planing to persuade the sharks to invest in your business; 2) the mathematical part to formulate the problem and develop math solution; 3) the programming part to collect the data, implement the math solution, and develop the prototype/demo.\n",
    "* NOTE, as opposed to the first three case studies, case study 4 is much more open ended.  \n",
    "  * Business is the focus\n",
    "  * All three parts need to appear (Business, Computer Science, and Math)\n",
    "  * However, the precise balance is up to you."
   ]
  },
  {
   "cell_type": "markdown",
   "metadata": {},
   "source": [
    "# Background about Elevator Pitch (90 seconds) and Shark Tank"
   ]
  },
  {
   "cell_type": "code",
   "execution_count": 1,
   "metadata": {},
   "outputs": [
    {
     "data": {
      "image/jpeg": "[encoded data removed]",
      "text/html": [
       "\n",
       "        <iframe\n",
       "            width=\"400\"\n",
       "            height=\"300\"\n",
       "            src=\"https://www.youtube.com/embed/3UuFR4Y4uw8\"\n",
       "            frameborder=\"0\"\n",
       "            allowfullscreen\n",
       "        ></iframe>\n",
       "        "
      ],
      "text/plain": [
       "<IPython.lib.display.YouTubeVideo at 0x2608f71c748>"
      ]
     },
     "execution_count": 1,
     "metadata": {},
     "output_type": "execute_result"
    }
   ],
   "source": [
    "from IPython.display import YouTubeVideo\n",
    "YouTubeVideo(\"3UuFR4Y4uw8\") "
   ]
  },
  {
   "cell_type": "code",
   "execution_count": 2,
   "metadata": {},
   "outputs": [
    {
     "data": {
      "image/jpeg": "[encoded data removed]",
      "text/html": [
       "\n",
       "        <iframe\n",
       "            width=\"400\"\n",
       "            height=\"300\"\n",
       "            src=\"https://www.youtube.com/embed/xIq8Sg59UdY\"\n",
       "            frameborder=\"0\"\n",
       "            allowfullscreen\n",
       "        ></iframe>\n",
       "        "
      ],
      "text/plain": [
       "<IPython.lib.display.YouTubeVideo at 0x2608f812b70>"
      ]
     },
     "execution_count": 2,
     "metadata": {},
     "output_type": "execute_result"
    }
   ],
   "source": [
    "YouTubeVideo(\"xIq8Sg59UdY\") "
   ]
  },
  {
   "cell_type": "markdown",
   "metadata": {},
   "source": [
    "### Two videos on storytelling"
   ]
  },
  {
   "cell_type": "markdown",
   "metadata": {},
   "source": [
    "https://video.wpi.edu/Watch/g2T4NjBn"
   ]
  },
  {
   "cell_type": "markdown",
   "metadata": {},
   "source": [
    "https://video.wpi.edu/Watch/q2A6Dbg3"
   ]
  },
  {
   "cell_type": "markdown",
   "metadata": {},
   "source": [
    "\n",
    "**Optional Readings:** \n",
    "* LinkedIn API: https://developer.linkedin.com/docs/rest-api\n",
    "* Zillow API: https://pypi.python.org/pypi/pyzillow\n",
    "* Google Map API: https://developers.google.com/api-client-library/python/apis/mapsengine/v1?hl=en\n",
    "* More APIs: https://github.com/ptwobrussell/Mining-the-Social-Web-2nd-Edition\n",
    "\n",
    "\n",
    "** Python libraries you may want to use:**\n",
    "* Scikit-learn (http://scikit-learn.org): machine learning tools in Python.\n",
    "\n",
    "** Data sources:**\n",
    "* UCI Machine Learning Repository: http://archive.ics.uci.edu/ml/ \n",
    "* Statlib datasets: http://lib.stat.cmu.edu/\n",
    "* Kaggel: www.kaggle.com \n",
    "* Open Gov. Data: www.data.gov, www.data.gov.uk, www.data.gov.fr, http://opengovernmentdata.org/data/catalogues/   \n",
    "\n",
    "** NOTE **\n",
    "* Please don't forget to save the notebook frequently when working in IPython Notebook, otherwise the changes you made can be lost.\n",
    "\n",
    "*----------------------"
   ]
  },
  {
   "cell_type": "markdown",
   "metadata": {},
   "source": [
    "### Problem 1: the Business Part (20 points)\n",
    " As a group, learn about the data science related business and research about the current markets: such as search, social media, advertisement, recommendation and so on.\n",
    "Pick one of the markets for further consideration, and design a new service  which you believe to be important in the market. \n",
    "Define precisely in the report and briefly in the cells below, what is the business problem that your team wants to solve.\n",
    "Why the problem is important to solve? \n",
    "Why you believe you could make a big difference with data science technology.\n",
    "How are you planing to persuade the investors to buy in your idea."
   ]
  },
  {
   "cell_type": "markdown",
   "metadata": {},
   "source": [
    "**Please describe here *briefly*  (please edit this cell)**\n",
    "\n",
    "1) Your business problem to solve:\n",
    "\n",
    "# Customer complaint data is sometimes filtered or altered before being shared with C-level executives at Financial product/service companies in order to hide illegal or unscrupulous activity taking place at lower levels of the organization.  Also, complaint data is a valuable asset which can be used to identify areas of opportunity to improve operations along various dimensions such as Product lines, Sub-Product lines, etc.\n",
    "\n",
    "\n",
    "2) Why the problem is important to solve?\n",
    "\n",
    "# According to the White House Office of Consumer Affairs it is 6-7 times more expensive to acquire a new customer than it is to keep a current one.  Also, illegal or unscrupulous activity by Financial product/service companies can have long-term, negative effects on company profitability via fines, damaged reputation and customer churn. \n",
    "\n",
    "\n",
    "3) What is your idea to solve the problem? \n",
    "\n",
    "# Team 14 has created a product that provides customer complaint analytics directly to C-level Executives at Financial product/service companies.  The combination of a demographically enhanced dataset, robust analytics and a direct delivery pipeline will provide valuable insights into complaint patterns while at the same time thwarting attempts by lower levels of management to alter or hide patterns of illegal or unscrupulous activity. \n",
    "\n",
    "\n",
    "4) What differences you could make with your data science approach?\n",
    "\n",
    "# While customer complaint data is publicly available from the Consumer Financial Protection Burea, we enhance it by adding demographic dimensions from the U.S. Census Bureau.  With our product companies can not only glean valuable insights into their handling of complaints but we can extend the value by looking for other potentially negative activity such as Predatory Lending Practices. \n",
    "\n",
    "\n",
    "5) Why do you believe the idea deserves the investment of the \"sharks\"?\n",
    "\n",
    "# Our product ensures that C-level executives will hear the \"unfiltered truth\" about their operations regarding customer complaints while at the same time providing demographically enhanced descriptive and predictive analytics, and competitive intelligence.  Our product also ensures that those who are ultimately held responsible in the event of illegal or unscrupulous activity not only receive unbiased data but also have access to analytics which identify potential cases of such activity. "
   ]
  },
  {
   "cell_type": "markdown",
   "metadata": {},
   "source": [
    "### Problem 2: The Math Part (20 points)"
   ]
  },
  {
   "cell_type": "markdown",
   "metadata": {},
   "source": [
    "Define the business problem as a math problem and design a math solution to the problem.\n"
   ]
  },
  {
   "cell_type": "markdown",
   "metadata": {},
   "source": [
    "**Insert your answers here**\n",
    "\n",
    "\n",
    "1) Problem formulation in Math:\n",
    "\n",
    "\n",
    "\n",
    "\n",
    "2) Math Solution:\n",
    "\n",
    "\n",
    "\n",
    "\n",
    "\n",
    "\n",
    "3) Implementation of the Solution\n"
   ]
  },
  {
   "cell_type": "code",
   "execution_count": 8,
   "metadata": {
    "collapsed": true
   },
   "outputs": [],
   "source": [
    "# your code here\n",
    "\n",
    "\n"
   ]
  },
  {
   "cell_type": "markdown",
   "metadata": {},
   "source": [
    "### Problem 3: The Hacking Part  (20 points)\n"
   ]
  },
  {
   "cell_type": "markdown",
   "metadata": {},
   "source": [
    "* Data Collection\n",
    "* Implement a small Demo/Prototype/experiment result figures for the \"product\" of your data science company. You could use this demo during the Pitch"
   ]
  },
  {
   "cell_type": "code",
   "execution_count": 2,
   "metadata": {
    "collapsed": true
   },
   "outputs": [],
   "source": [
    "# import libraries\n",
    "import pandas as pd\n",
    "import matplotlib.pyplot as plt\n",
    "%matplotlib inline"
   ]
  },
  {
   "cell_type": "code",
   "execution_count": 3,
   "metadata": {
    "collapsed": true
   },
   "outputs": [],
   "source": [
    "# create dataframe for complaints\n",
    "df_complaints = pd.read_excel('Consumer_Complaints.xlsx',sheetname='Consumer_Complaints', header=0)"
   ]
  },
  {
   "cell_type": "code",
   "execution_count": 4,
   "metadata": {
    "collapsed": true
   },
   "outputs": [],
   "source": [
    "# convert and save large complaint xlsx file to an hdf5 file\n",
    "#\n",
    "# NOT WORKING\n",
    "#\n",
    "#df_complaints.to_hdf('complaints.hdf5','complaints',mode='w',format='table',data_columns=True)"
   ]
  },
  {
   "cell_type": "code",
   "execution_count": 5,
   "metadata": {},
   "outputs": [
    {
     "data": {
      "text/html": [
       "<div>\n",
       "<style>\n",
       "    .dataframe thead tr:only-child th {\n",
       "        text-align: right;\n",
       "    }\n",
       "\n",
       "    .dataframe thead th {\n",
       "        text-align: left;\n",
       "    }\n",
       "\n",
       "    .dataframe tbody tr th {\n",
       "        vertical-align: top;\n",
       "    }\n",
       "</style>\n",
       "<table border=\"1\" class=\"dataframe\">\n",
       "  <thead>\n",
       "    <tr style=\"text-align: right;\">\n",
       "      <th></th>\n",
       "      <th>Date received</th>\n",
       "      <th>Product</th>\n",
       "      <th>Sub-product</th>\n",
       "      <th>Issue</th>\n",
       "      <th>Sub-issue</th>\n",
       "      <th>Consumer complaint narrative</th>\n",
       "      <th>Company public response</th>\n",
       "      <th>Company</th>\n",
       "      <th>State</th>\n",
       "      <th>ZIP code</th>\n",
       "      <th>ZIP_five_digit</th>\n",
       "      <th>ZIP_first_three</th>\n",
       "      <th>Tags</th>\n",
       "      <th>Consumer consent provided?</th>\n",
       "      <th>Submitted via</th>\n",
       "      <th>Date sent to company</th>\n",
       "      <th>Company response to consumer</th>\n",
       "      <th>Timely response?</th>\n",
       "      <th>Consumer disputed?</th>\n",
       "      <th>Complaint ID</th>\n",
       "    </tr>\n",
       "  </thead>\n",
       "  <tbody>\n",
       "    <tr>\n",
       "      <th>0</th>\n",
       "      <td>2014-03-12</td>\n",
       "      <td>Mortgage</td>\n",
       "      <td>Other mortgage</td>\n",
       "      <td>Loan modification,collection,foreclosure</td>\n",
       "      <td>NaN</td>\n",
       "      <td>NaN</td>\n",
       "      <td>NaN</td>\n",
       "      <td>M&amp;T BANK CORPORATION</td>\n",
       "      <td>MI</td>\n",
       "      <td>48382</td>\n",
       "      <td>48382</td>\n",
       "      <td>483</td>\n",
       "      <td>NaN</td>\n",
       "      <td>NaN</td>\n",
       "      <td>Referral</td>\n",
       "      <td>2014-03-17</td>\n",
       "      <td>Closed with explanation</td>\n",
       "      <td>Yes</td>\n",
       "      <td>No</td>\n",
       "      <td>759217.0</td>\n",
       "    </tr>\n",
       "    <tr>\n",
       "      <th>1</th>\n",
       "      <td>2016-10-01</td>\n",
       "      <td>Credit reporting</td>\n",
       "      <td>NaN</td>\n",
       "      <td>Incorrect information on credit report</td>\n",
       "      <td>Account status</td>\n",
       "      <td>I have outdated information on my credit repor...</td>\n",
       "      <td>Company has responded to the consumer and the ...</td>\n",
       "      <td>TRANSUNION INTERMEDIATE HOLDINGS, INC.</td>\n",
       "      <td>AL</td>\n",
       "      <td>352XX</td>\n",
       "      <td>352XX</td>\n",
       "      <td>352</td>\n",
       "      <td>NaN</td>\n",
       "      <td>Consent provided</td>\n",
       "      <td>Web</td>\n",
       "      <td>2016-10-05</td>\n",
       "      <td>Closed with explanation</td>\n",
       "      <td>Yes</td>\n",
       "      <td>No</td>\n",
       "      <td>2141773.0</td>\n",
       "    </tr>\n",
       "    <tr>\n",
       "      <th>2</th>\n",
       "      <td>2016-10-17</td>\n",
       "      <td>Consumer Loan</td>\n",
       "      <td>Vehicle loan</td>\n",
       "      <td>Managing the loan or lease</td>\n",
       "      <td>NaN</td>\n",
       "      <td>I purchased a new car on XXXX XXXX. The car de...</td>\n",
       "      <td>NaN</td>\n",
       "      <td>CITIZENS FINANCIAL GROUP, INC.</td>\n",
       "      <td>PA</td>\n",
       "      <td>177XX</td>\n",
       "      <td>177XX</td>\n",
       "      <td>177</td>\n",
       "      <td>Older American</td>\n",
       "      <td>Consent provided</td>\n",
       "      <td>Web</td>\n",
       "      <td>2016-10-20</td>\n",
       "      <td>Closed with explanation</td>\n",
       "      <td>Yes</td>\n",
       "      <td>No</td>\n",
       "      <td>2163100.0</td>\n",
       "    </tr>\n",
       "    <tr>\n",
       "      <th>3</th>\n",
       "      <td>2014-06-08</td>\n",
       "      <td>Credit card</td>\n",
       "      <td>NaN</td>\n",
       "      <td>Bankruptcy</td>\n",
       "      <td>NaN</td>\n",
       "      <td>NaN</td>\n",
       "      <td>NaN</td>\n",
       "      <td>AMERICAN EXPRESS COMPANY</td>\n",
       "      <td>ID</td>\n",
       "      <td>83854</td>\n",
       "      <td>83854</td>\n",
       "      <td>838</td>\n",
       "      <td>Older American</td>\n",
       "      <td>NaN</td>\n",
       "      <td>Web</td>\n",
       "      <td>2014-06-10</td>\n",
       "      <td>Closed with explanation</td>\n",
       "      <td>Yes</td>\n",
       "      <td>Yes</td>\n",
       "      <td>885638.0</td>\n",
       "    </tr>\n",
       "    <tr>\n",
       "      <th>4</th>\n",
       "      <td>2014-09-13</td>\n",
       "      <td>Debt collection</td>\n",
       "      <td>Credit card</td>\n",
       "      <td>Communication tactics</td>\n",
       "      <td>Frequent or repeated calls</td>\n",
       "      <td>NaN</td>\n",
       "      <td>NaN</td>\n",
       "      <td>CITIBANK, N.A.</td>\n",
       "      <td>VA</td>\n",
       "      <td>23233</td>\n",
       "      <td>23233</td>\n",
       "      <td>232</td>\n",
       "      <td>NaN</td>\n",
       "      <td>NaN</td>\n",
       "      <td>Web</td>\n",
       "      <td>2014-09-13</td>\n",
       "      <td>Closed with explanation</td>\n",
       "      <td>Yes</td>\n",
       "      <td>Yes</td>\n",
       "      <td>1027760.0</td>\n",
       "    </tr>\n",
       "  </tbody>\n",
       "</table>\n",
       "</div>"
      ],
      "text/plain": [
       "  Date received           Product     Sub-product  \\\n",
       "0    2014-03-12          Mortgage  Other mortgage   \n",
       "1    2016-10-01  Credit reporting             NaN   \n",
       "2    2016-10-17     Consumer Loan    Vehicle loan   \n",
       "3    2014-06-08       Credit card             NaN   \n",
       "4    2014-09-13   Debt collection     Credit card   \n",
       "\n",
       "                                      Issue                   Sub-issue  \\\n",
       "0  Loan modification,collection,foreclosure                         NaN   \n",
       "1    Incorrect information on credit report              Account status   \n",
       "2                Managing the loan or lease                         NaN   \n",
       "3                                Bankruptcy                         NaN   \n",
       "4                     Communication tactics  Frequent or repeated calls   \n",
       "\n",
       "                        Consumer complaint narrative  \\\n",
       "0                                                NaN   \n",
       "1  I have outdated information on my credit repor...   \n",
       "2  I purchased a new car on XXXX XXXX. The car de...   \n",
       "3                                                NaN   \n",
       "4                                                NaN   \n",
       "\n",
       "                             Company public response  \\\n",
       "0                                                NaN   \n",
       "1  Company has responded to the consumer and the ...   \n",
       "2                                                NaN   \n",
       "3                                                NaN   \n",
       "4                                                NaN   \n",
       "\n",
       "                                  Company State ZIP code ZIP_five_digit  \\\n",
       "0                    M&T BANK CORPORATION    MI    48382          48382   \n",
       "1  TRANSUNION INTERMEDIATE HOLDINGS, INC.    AL    352XX          352XX   \n",
       "2          CITIZENS FINANCIAL GROUP, INC.    PA    177XX          177XX   \n",
       "3                AMERICAN EXPRESS COMPANY    ID    83854          83854   \n",
       "4                          CITIBANK, N.A.    VA    23233          23233   \n",
       "\n",
       "  ZIP_first_three            Tags Consumer consent provided? Submitted via  \\\n",
       "0             483             NaN                        NaN      Referral   \n",
       "1             352             NaN           Consent provided           Web   \n",
       "2             177  Older American           Consent provided           Web   \n",
       "3             838  Older American                        NaN           Web   \n",
       "4             232             NaN                        NaN           Web   \n",
       "\n",
       "  Date sent to company Company response to consumer Timely response?  \\\n",
       "0           2014-03-17      Closed with explanation              Yes   \n",
       "1           2016-10-05      Closed with explanation              Yes   \n",
       "2           2016-10-20      Closed with explanation              Yes   \n",
       "3           2014-06-10      Closed with explanation              Yes   \n",
       "4           2014-09-13      Closed with explanation              Yes   \n",
       "\n",
       "  Consumer disputed?  Complaint ID  \n",
       "0                 No      759217.0  \n",
       "1                 No     2141773.0  \n",
       "2                 No     2163100.0  \n",
       "3                Yes      885638.0  \n",
       "4                Yes     1027760.0  "
      ]
     },
     "execution_count": 5,
     "metadata": {},
     "output_type": "execute_result"
    }
   ],
   "source": [
    "# confirm the dataframe loaded properly \n",
    "df_complaints.head()"
   ]
  },
  {
   "cell_type": "code",
   "execution_count": 6,
   "metadata": {},
   "outputs": [
    {
     "data": {
      "text/plain": [
       "<matplotlib.axes._subplots.AxesSubplot at 0x1cfd8f0c828>"
      ]
     },
     "execution_count": 6,
     "metadata": {},
     "output_type": "execute_result"
    },
    {
     "data": {
      "image/png": "[encoded data removed]",
      "text/plain": [
       "<matplotlib.figure.Figure at 0x1cfd8f0cc88>"
      ]
     },
     "metadata": {},
     "output_type": "display_data"
    }
   ],
   "source": [
    "# QUICK EXPLORATION OF NATIVE CFPB COMPLAINT DATASET\n",
    "#\n",
    "# !!!!!! YOU ARE WELCOME TO USE BETTER/CLEANER CODE ANYWHERE !!!!!!\n",
    "#\n",
    "# what finanical products receive the most complaints?\n",
    "df_complaints.groupby('Product').size().plot(kind='bar')"
   ]
  },
  {
   "cell_type": "code",
   "execution_count": 7,
   "metadata": {},
   "outputs": [
    {
     "name": "stdout",
     "output_type": "stream",
     "text": [
      "                                       Complaint ID\n",
      "                                                len\n",
      "Company                                            \n",
      "BANK OF AMERICA, NATIONAL ASSOCIATION       70658.0\n",
      "CAPITAL ONE FINANCIAL CORPORATION           23613.0\n",
      "CITIBANK, N.A.                              38598.0\n",
      "Ditech Financial LLC                        12377.0\n",
      "EQUIFAX, INC.                               71069.0\n",
      "Experian Information Solutions Inc.         59809.0\n",
      "JPMORGAN CHASE & CO.                        47471.0\n",
      "NATIONSTAR MORTGAGE                         17577.0\n",
      "Navient Solutions, LLC.                     21967.0\n",
      "OCWEN LOAN SERVICING LLC                    25522.0\n",
      "SYNCHRONY FINANCIAL                         15217.0\n",
      "TRANSUNION INTERMEDIATE HOLDINGS, INC.      54161.0\n",
      "U.S. BANCORP                                13713.0\n",
      "WELLS FARGO & COMPANY                       58596.0\n"
     ]
    }
   ],
   "source": [
    "# QUICK EXPLORATION OF THE CFPB COMPLAINT DATASET\n",
    "#\n",
    "# !!!!!! YOU ARE WELCOME TO USE BETTER/CLEANER CODE ANYWHERE !!!!!!\n",
    "#\n",
    "# What is the count of complaints for each company only if they have more than 10,000 complaints?\n",
    "df_complaints_more_than_10k = df_complaints.groupby('Company').filter(lambda x: len(x) > 10000 )\n",
    "table = pd.pivot_table(df_complaints_more_than_10k,index=['Company'],values=['Complaint ID'],aggfunc={len})\n",
    "print(table)"
   ]
  },
  {
   "cell_type": "code",
   "execution_count": 8,
   "metadata": {
    "collapsed": true
   },
   "outputs": [],
   "source": [
    "# create dataframe for supplemental census data\n",
    "df_census = pd.read_excel('ACS_2015_VERSION_2.xls',sheetname='ACS_2015_BY_ZIP3', header=0)"
   ]
  },
  {
   "cell_type": "code",
   "execution_count": 9,
   "metadata": {
    "scrolled": true
   },
   "outputs": [
    {
     "data": {
      "text/html": [
       "<div>\n",
       "<style>\n",
       "    .dataframe thead tr:only-child th {\n",
       "        text-align: right;\n",
       "    }\n",
       "\n",
       "    .dataframe thead th {\n",
       "        text-align: left;\n",
       "    }\n",
       "\n",
       "    .dataframe tbody tr th {\n",
       "        vertical-align: top;\n",
       "    }\n",
       "</style>\n",
       "<table border=\"1\" class=\"dataframe\">\n",
       "  <thead>\n",
       "    <tr style=\"text-align: right;\">\n",
       "      <th></th>\n",
       "      <th>ZIP_first_three</th>\n",
       "      <th>Est. Total Population</th>\n",
       "      <th>Est. White Population</th>\n",
       "      <th>Est. Black or African American Population</th>\n",
       "      <th>Est. American Indian and Alaska Native Population</th>\n",
       "      <th>Est. Asian Population</th>\n",
       "      <th>Est. Native Hawaiian and Other Pacific Islander Population</th>\n",
       "      <th>Est. Some other race Population</th>\n",
       "      <th>Est. Two or more races Population</th>\n",
       "      <th>Est. Two or more races: - Two races including Some other race Population</th>\n",
       "      <th>Est. Two or more races: - Two races excluding Some other race, and three or more races</th>\n",
       "      <th>Household Median Income by 3 digit ZIP</th>\n",
       "      <th>Percent White</th>\n",
       "      <th>Percent Non-White</th>\n",
       "      <th>More than half is Non-White</th>\n",
       "    </tr>\n",
       "  </thead>\n",
       "  <tbody>\n",
       "    <tr>\n",
       "      <th>0</th>\n",
       "      <td>006</td>\n",
       "      <td>1169597.0</td>\n",
       "      <td>914266.0</td>\n",
       "      <td>40812.0</td>\n",
       "      <td>1785.0</td>\n",
       "      <td>2707.0</td>\n",
       "      <td>52.0</td>\n",
       "      <td>133821.0</td>\n",
       "      <td>76154.0</td>\n",
       "      <td>5839.0</td>\n",
       "      <td>70315.0</td>\n",
       "      <td>NaN</td>\n",
       "      <td>78.1693</td>\n",
       "      <td>21.8307</td>\n",
       "      <td>0.0</td>\n",
       "    </tr>\n",
       "    <tr>\n",
       "      <th>1</th>\n",
       "      <td>007</td>\n",
       "      <td>1324804.0</td>\n",
       "      <td>877944.0</td>\n",
       "      <td>131159.0</td>\n",
       "      <td>1999.0</td>\n",
       "      <td>3295.0</td>\n",
       "      <td>12.0</td>\n",
       "      <td>205285.0</td>\n",
       "      <td>105110.0</td>\n",
       "      <td>5343.0</td>\n",
       "      <td>99767.0</td>\n",
       "      <td>NaN</td>\n",
       "      <td>66.2697</td>\n",
       "      <td>33.7303</td>\n",
       "      <td>0.0</td>\n",
       "    </tr>\n",
       "    <tr>\n",
       "      <th>2</th>\n",
       "      <td>009</td>\n",
       "      <td>1086409.0</td>\n",
       "      <td>702301.0</td>\n",
       "      <td>129152.0</td>\n",
       "      <td>7989.0</td>\n",
       "      <td>4153.0</td>\n",
       "      <td>65.0</td>\n",
       "      <td>92158.0</td>\n",
       "      <td>150591.0</td>\n",
       "      <td>8087.0</td>\n",
       "      <td>142504.0</td>\n",
       "      <td>NaN</td>\n",
       "      <td>64.6443</td>\n",
       "      <td>35.3557</td>\n",
       "      <td>0.0</td>\n",
       "    </tr>\n",
       "    <tr>\n",
       "      <th>3</th>\n",
       "      <td>010</td>\n",
       "      <td>475489.0</td>\n",
       "      <td>427021.0</td>\n",
       "      <td>12313.0</td>\n",
       "      <td>816.0</td>\n",
       "      <td>14288.0</td>\n",
       "      <td>174.0</td>\n",
       "      <td>11767.0</td>\n",
       "      <td>9110.0</td>\n",
       "      <td>1810.0</td>\n",
       "      <td>7300.0</td>\n",
       "      <td>NaN</td>\n",
       "      <td>89.8067</td>\n",
       "      <td>10.1933</td>\n",
       "      <td>0.0</td>\n",
       "    </tr>\n",
       "    <tr>\n",
       "      <th>4</th>\n",
       "      <td>011</td>\n",
       "      <td>169824.0</td>\n",
       "      <td>99837.0</td>\n",
       "      <td>32665.0</td>\n",
       "      <td>795.0</td>\n",
       "      <td>4204.0</td>\n",
       "      <td>41.0</td>\n",
       "      <td>26253.0</td>\n",
       "      <td>6029.0</td>\n",
       "      <td>1322.0</td>\n",
       "      <td>4707.0</td>\n",
       "      <td>NaN</td>\n",
       "      <td>58.7885</td>\n",
       "      <td>41.2115</td>\n",
       "      <td>0.0</td>\n",
       "    </tr>\n",
       "  </tbody>\n",
       "</table>\n",
       "</div>"
      ],
      "text/plain": [
       "  ZIP_first_three  Est. Total Population  Est. White Population  \\\n",
       "0             006              1169597.0               914266.0   \n",
       "1             007              1324804.0               877944.0   \n",
       "2             009              1086409.0               702301.0   \n",
       "3             010               475489.0               427021.0   \n",
       "4             011               169824.0                99837.0   \n",
       "\n",
       "   Est. Black or African American Population  \\\n",
       "0                                    40812.0   \n",
       "1                                   131159.0   \n",
       "2                                   129152.0   \n",
       "3                                    12313.0   \n",
       "4                                    32665.0   \n",
       "\n",
       "   Est. American Indian and Alaska Native Population  Est. Asian Population  \\\n",
       "0                                             1785.0                 2707.0   \n",
       "1                                             1999.0                 3295.0   \n",
       "2                                             7989.0                 4153.0   \n",
       "3                                              816.0                14288.0   \n",
       "4                                              795.0                 4204.0   \n",
       "\n",
       "   Est. Native Hawaiian and Other Pacific Islander Population  \\\n",
       "0                                               52.0            \n",
       "1                                               12.0            \n",
       "2                                               65.0            \n",
       "3                                              174.0            \n",
       "4                                               41.0            \n",
       "\n",
       "   Est. Some other race Population  Est. Two or more races Population  \\\n",
       "0                         133821.0                            76154.0   \n",
       "1                         205285.0                           105110.0   \n",
       "2                          92158.0                           150591.0   \n",
       "3                          11767.0                             9110.0   \n",
       "4                          26253.0                             6029.0   \n",
       "\n",
       "   Est. Two or more races: - Two races including Some other race Population  \\\n",
       "0                                             5839.0                          \n",
       "1                                             5343.0                          \n",
       "2                                             8087.0                          \n",
       "3                                             1810.0                          \n",
       "4                                             1322.0                          \n",
       "\n",
       "   Est. Two or more races: - Two races excluding Some other race, and three or more races  \\\n",
       "0                                            70315.0                                        \n",
       "1                                            99767.0                                        \n",
       "2                                           142504.0                                        \n",
       "3                                             7300.0                                        \n",
       "4                                             4707.0                                        \n",
       "\n",
       "  Household Median Income by 3 digit ZIP Percent White Percent Non-White  \\\n",
       "0                                    NaN       78.1693           21.8307   \n",
       "1                                    NaN       66.2697           33.7303   \n",
       "2                                    NaN       64.6443           35.3557   \n",
       "3                                    NaN       89.8067           10.1933   \n",
       "4                                    NaN       58.7885           41.2115   \n",
       "\n",
       "   More than half is Non-White  \n",
       "0                          0.0  \n",
       "1                          0.0  \n",
       "2                          0.0  \n",
       "3                          0.0  \n",
       "4                          0.0  "
      ]
     },
     "execution_count": 9,
     "metadata": {},
     "output_type": "execute_result"
    }
   ],
   "source": [
    "# confirm the dataframe loaded properly\n",
    "df_census.head()"
   ]
  },
  {
   "cell_type": "code",
   "execution_count": 10,
   "metadata": {
    "collapsed": true
   },
   "outputs": [],
   "source": [
    "# lets join the COMPLAINTS and CENSUS datasets\n",
    "#\n",
    "df_complaints_and_census = pd.merge(left=df_complaints, right=df_census, how='left', on=['ZIP_first_three'])"
   ]
  },
  {
   "cell_type": "code",
   "execution_count": 11,
   "metadata": {
    "scrolled": true
   },
   "outputs": [
    {
     "data": {
      "text/html": [
       "<div>\n",
       "<style>\n",
       "    .dataframe thead tr:only-child th {\n",
       "        text-align: right;\n",
       "    }\n",
       "\n",
       "    .dataframe thead th {\n",
       "        text-align: left;\n",
       "    }\n",
       "\n",
       "    .dataframe tbody tr th {\n",
       "        vertical-align: top;\n",
       "    }\n",
       "</style>\n",
       "<table border=\"1\" class=\"dataframe\">\n",
       "  <thead>\n",
       "    <tr style=\"text-align: right;\">\n",
       "      <th></th>\n",
       "      <th>Date received</th>\n",
       "      <th>Product</th>\n",
       "      <th>Sub-product</th>\n",
       "      <th>Issue</th>\n",
       "      <th>Sub-issue</th>\n",
       "      <th>Consumer complaint narrative</th>\n",
       "      <th>Company public response</th>\n",
       "      <th>Company</th>\n",
       "      <th>State</th>\n",
       "      <th>ZIP code</th>\n",
       "      <th>...</th>\n",
       "      <th>Est. Asian Population</th>\n",
       "      <th>Est. Native Hawaiian and Other Pacific Islander Population</th>\n",
       "      <th>Est. Some other race Population</th>\n",
       "      <th>Est. Two or more races Population</th>\n",
       "      <th>Est. Two or more races: - Two races including Some other race Population</th>\n",
       "      <th>Est. Two or more races: - Two races excluding Some other race, and three or more races</th>\n",
       "      <th>Household Median Income by 3 digit ZIP</th>\n",
       "      <th>Percent White</th>\n",
       "      <th>Percent Non-White</th>\n",
       "      <th>More than half is Non-White</th>\n",
       "    </tr>\n",
       "  </thead>\n",
       "  <tbody>\n",
       "    <tr>\n",
       "      <th>0</th>\n",
       "      <td>2014-03-12</td>\n",
       "      <td>Mortgage</td>\n",
       "      <td>Other mortgage</td>\n",
       "      <td>Loan modification,collection,foreclosure</td>\n",
       "      <td>NaN</td>\n",
       "      <td>NaN</td>\n",
       "      <td>NaN</td>\n",
       "      <td>M&amp;T BANK CORPORATION</td>\n",
       "      <td>MI</td>\n",
       "      <td>48382</td>\n",
       "      <td>...</td>\n",
       "      <td>63042.0</td>\n",
       "      <td>210.0</td>\n",
       "      <td>6622.0</td>\n",
       "      <td>23659.0</td>\n",
       "      <td>2203.0</td>\n",
       "      <td>21456.0</td>\n",
       "      <td>NaN</td>\n",
       "      <td>80.9657</td>\n",
       "      <td>19.0343</td>\n",
       "      <td>0.0</td>\n",
       "    </tr>\n",
       "    <tr>\n",
       "      <th>1</th>\n",
       "      <td>2016-10-01</td>\n",
       "      <td>Credit reporting</td>\n",
       "      <td>NaN</td>\n",
       "      <td>Incorrect information on credit report</td>\n",
       "      <td>Account status</td>\n",
       "      <td>I have outdated information on my credit repor...</td>\n",
       "      <td>Company has responded to the consumer and the ...</td>\n",
       "      <td>TRANSUNION INTERMEDIATE HOLDINGS, INC.</td>\n",
       "      <td>AL</td>\n",
       "      <td>352XX</td>\n",
       "      <td>...</td>\n",
       "      <td>11585.0</td>\n",
       "      <td>188.0</td>\n",
       "      <td>9476.0</td>\n",
       "      <td>5580.0</td>\n",
       "      <td>381.0</td>\n",
       "      <td>5199.0</td>\n",
       "      <td>NaN</td>\n",
       "      <td>50.6409</td>\n",
       "      <td>49.3591</td>\n",
       "      <td>0.0</td>\n",
       "    </tr>\n",
       "    <tr>\n",
       "      <th>2</th>\n",
       "      <td>2016-10-17</td>\n",
       "      <td>Consumer Loan</td>\n",
       "      <td>Vehicle loan</td>\n",
       "      <td>Managing the loan or lease</td>\n",
       "      <td>NaN</td>\n",
       "      <td>I purchased a new car on XXXX XXXX. The car de...</td>\n",
       "      <td>NaN</td>\n",
       "      <td>CITIZENS FINANCIAL GROUP, INC.</td>\n",
       "      <td>PA</td>\n",
       "      <td>177XX</td>\n",
       "      <td>...</td>\n",
       "      <td>1046.0</td>\n",
       "      <td>61.0</td>\n",
       "      <td>831.0</td>\n",
       "      <td>2758.0</td>\n",
       "      <td>238.0</td>\n",
       "      <td>2520.0</td>\n",
       "      <td>NaN</td>\n",
       "      <td>93.3655</td>\n",
       "      <td>6.63452</td>\n",
       "      <td>0.0</td>\n",
       "    </tr>\n",
       "    <tr>\n",
       "      <th>3</th>\n",
       "      <td>2014-06-08</td>\n",
       "      <td>Credit card</td>\n",
       "      <td>NaN</td>\n",
       "      <td>Bankruptcy</td>\n",
       "      <td>NaN</td>\n",
       "      <td>NaN</td>\n",
       "      <td>NaN</td>\n",
       "      <td>AMERICAN EXPRESS COMPANY</td>\n",
       "      <td>ID</td>\n",
       "      <td>83854</td>\n",
       "      <td>...</td>\n",
       "      <td>2477.0</td>\n",
       "      <td>208.0</td>\n",
       "      <td>1056.0</td>\n",
       "      <td>6471.0</td>\n",
       "      <td>340.0</td>\n",
       "      <td>6131.0</td>\n",
       "      <td>NaN</td>\n",
       "      <td>94.1119</td>\n",
       "      <td>5.88815</td>\n",
       "      <td>0.0</td>\n",
       "    </tr>\n",
       "    <tr>\n",
       "      <th>4</th>\n",
       "      <td>2014-09-13</td>\n",
       "      <td>Debt collection</td>\n",
       "      <td>Credit card</td>\n",
       "      <td>Communication tactics</td>\n",
       "      <td>Frequent or repeated calls</td>\n",
       "      <td>NaN</td>\n",
       "      <td>NaN</td>\n",
       "      <td>CITIBANK, N.A.</td>\n",
       "      <td>VA</td>\n",
       "      <td>23233</td>\n",
       "      <td>...</td>\n",
       "      <td>22583.0</td>\n",
       "      <td>347.0</td>\n",
       "      <td>11177.0</td>\n",
       "      <td>17003.0</td>\n",
       "      <td>1593.0</td>\n",
       "      <td>15410.0</td>\n",
       "      <td>NaN</td>\n",
       "      <td>52.4695</td>\n",
       "      <td>47.5305</td>\n",
       "      <td>0.0</td>\n",
       "    </tr>\n",
       "  </tbody>\n",
       "</table>\n",
       "<p>5 rows × 34 columns</p>\n",
       "</div>"
      ],
      "text/plain": [
       "  Date received           Product     Sub-product  \\\n",
       "0    2014-03-12          Mortgage  Other mortgage   \n",
       "1    2016-10-01  Credit reporting             NaN   \n",
       "2    2016-10-17     Consumer Loan    Vehicle loan   \n",
       "3    2014-06-08       Credit card             NaN   \n",
       "4    2014-09-13   Debt collection     Credit card   \n",
       "\n",
       "                                      Issue                   Sub-issue  \\\n",
       "0  Loan modification,collection,foreclosure                         NaN   \n",
       "1    Incorrect information on credit report              Account status   \n",
       "2                Managing the loan or lease                         NaN   \n",
       "3                                Bankruptcy                         NaN   \n",
       "4                     Communication tactics  Frequent or repeated calls   \n",
       "\n",
       "                        Consumer complaint narrative  \\\n",
       "0                                                NaN   \n",
       "1  I have outdated information on my credit repor...   \n",
       "2  I purchased a new car on XXXX XXXX. The car de...   \n",
       "3                                                NaN   \n",
       "4                                                NaN   \n",
       "\n",
       "                             Company public response  \\\n",
       "0                                                NaN   \n",
       "1  Company has responded to the consumer and the ...   \n",
       "2                                                NaN   \n",
       "3                                                NaN   \n",
       "4                                                NaN   \n",
       "\n",
       "                                  Company State ZIP code  \\\n",
       "0                    M&T BANK CORPORATION    MI    48382   \n",
       "1  TRANSUNION INTERMEDIATE HOLDINGS, INC.    AL    352XX   \n",
       "2          CITIZENS FINANCIAL GROUP, INC.    PA    177XX   \n",
       "3                AMERICAN EXPRESS COMPANY    ID    83854   \n",
       "4                          CITIBANK, N.A.    VA    23233   \n",
       "\n",
       "              ...              Est. Asian Population  \\\n",
       "0             ...                            63042.0   \n",
       "1             ...                            11585.0   \n",
       "2             ...                             1046.0   \n",
       "3             ...                             2477.0   \n",
       "4             ...                            22583.0   \n",
       "\n",
       "  Est. Native Hawaiian and Other Pacific Islander Population  \\\n",
       "0                                              210.0           \n",
       "1                                              188.0           \n",
       "2                                               61.0           \n",
       "3                                              208.0           \n",
       "4                                              347.0           \n",
       "\n",
       "  Est. Some other race Population Est. Two or more races Population  \\\n",
       "0                          6622.0                           23659.0   \n",
       "1                          9476.0                            5580.0   \n",
       "2                           831.0                            2758.0   \n",
       "3                          1056.0                            6471.0   \n",
       "4                         11177.0                           17003.0   \n",
       "\n",
       "  Est. Two or more races: - Two races including Some other race Population  \\\n",
       "0                                             2203.0                         \n",
       "1                                              381.0                         \n",
       "2                                              238.0                         \n",
       "3                                              340.0                         \n",
       "4                                             1593.0                         \n",
       "\n",
       "  Est. Two or more races: - Two races excluding Some other race, and three or more races  \\\n",
       "0                                            21456.0                                       \n",
       "1                                             5199.0                                       \n",
       "2                                             2520.0                                       \n",
       "3                                             6131.0                                       \n",
       "4                                            15410.0                                       \n",
       "\n",
       "  Household Median Income by 3 digit ZIP Percent White Percent Non-White  \\\n",
       "0                                    NaN       80.9657           19.0343   \n",
       "1                                    NaN       50.6409           49.3591   \n",
       "2                                    NaN       93.3655           6.63452   \n",
       "3                                    NaN       94.1119           5.88815   \n",
       "4                                    NaN       52.4695           47.5305   \n",
       "\n",
       "   More than half is Non-White  \n",
       "0                          0.0  \n",
       "1                          0.0  \n",
       "2                          0.0  \n",
       "3                          0.0  \n",
       "4                          0.0  \n",
       "\n",
       "[5 rows x 34 columns]"
      ]
     },
     "execution_count": 11,
     "metadata": {},
     "output_type": "execute_result"
    }
   ],
   "source": [
    "# verify dataframe was loaded by viewing the first 5 head rows\n",
    "df_complaints_and_census.head()"
   ]
  },
  {
   "cell_type": "code",
   "execution_count": 37,
   "metadata": {},
   "outputs": [
    {
     "data": {
      "text/plain": [
       "<matplotlib.axes._subplots.AxesSubplot at 0x1cff6f286d8>"
      ]
     },
     "execution_count": 37,
     "metadata": {},
     "output_type": "execute_result"
    },
    {
     "data": {
      "image/png": "[encoded data removed]",
      "text/plain": [
       "<matplotlib.figure.Figure at 0x1cfefb85d68>"
      ]
     },
     "metadata": {},
     "output_type": "display_data"
    }
   ],
   "source": [
    "# review all complaints received over time\n",
    "plt.rcParams['figure.figsize'] = (10, 6)\n",
    "dates = df_complaints_and_census['Date received'].to_frame()\n",
    "dates.columns = ['date']\n",
    "dates = pd.to_datetime(dates['date']).to_frame()\n",
    "dates.groupby([dates.date.dt.year, dates.date.dt.month]).count().plot()"
   ]
  },
  {
   "cell_type": "code",
   "execution_count": 38,
   "metadata": {},
   "outputs": [
    {
     "data": {
      "text/plain": [
       "<matplotlib.axes._subplots.AxesSubplot at 0x1cfef15c6d8>"
      ]
     },
     "execution_count": 38,
     "metadata": {},
     "output_type": "execute_result"
    },
    {
     "data": {
      "image/png": "[encoded data removed]",
      "text/plain": [
       "<matplotlib.figure.Figure at 0x1cfef134470>"
      ]
     },
     "metadata": {},
     "output_type": "display_data"
    }
   ],
   "source": [
    "# review complaints received over time for just Wells Fargo\n",
    "# ---------------------------------------------------------\n",
    "#\n",
    "# maybe add some data points to the plot to represent Wells Fargo \n",
    "# controversies so we can see if the complaint volume changes \n",
    "# relative to these events.\n",
    "#\n",
    "plt.rcParams['figure.figsize'] = (10, 6)\n",
    "\n",
    "wells = df_complaints_and_census[df_complaints_and_census.Company == 'WELLS FARGO & COMPANY']\n",
    "\n",
    "# March 2010 - acknowleded failure to monitor susected money laundering\n",
    "# August 2010 - fined overdraft fees \n",
    "# Feb 2012 - settlement and fines regarding mortgae servicing practices\n",
    "# April 2012 - ordered to pay $3.1 Million in damages\n",
    "# July 2012 - settlement and fine of $125 M for discriminatory practices in 2011 and 2012\n",
    "# August 2012 - settlment w/ SEC to pay $6.5 M for inadequate risk disclosures \n",
    "# October 2012 - FHA lawsuit over loan underwriting\n",
    "# October 2012 - Federal Atty lawsuit over questionable mortgage deals\n",
    "# May 2013 - lawsuit regarding excessive overdraft fees\n",
    "# Feb 2015 - violation of New York credit card laws\n",
    "# October 2014 - executive compenstion; CEO paid 473 times more than median employee compensation\n",
    "# December 2011 - tax avoidance and lobbying\n",
    "# November 2012 - prison industry investing\n",
    "# May 28, 2015 - (Reuters) A former Wells Fargo & Co analyst has agreed to pay $75,000 to resolve charges by U.S. regulators that he engaged in insider trading with an employee at the bank.\n",
    "# September 2016 - CFPB fines; issued a combined total of $185 million in fines for creating over 1.5 million checking and savings accounts and 500,000 credit cards that its customers never authorized.\n",
    "# November 2016 - Wells Fargo agreed to pay $50 million to settle a racketeering lawsuit\n",
    "# Feb 2017 -  Seattle, Washington's city council unanimously voted to not renew its contract with Wells Fargo; cites the bank's role as a lender to the Dakota Access Pipeline project\n",
    "# Dec 2016 - Failure to comply with document security requirements \n",
    "\n",
    "#controversies = \n",
    "\n",
    "dates = wells['Date received'].to_frame()\n",
    "dates.columns = ['date']\n",
    "dates = pd.to_datetime(dates['date']).to_frame()\n",
    "dates.groupby([dates.date.dt.year, dates.date.dt.month]).count().plot()"
   ]
  },
  {
   "cell_type": "code",
   "execution_count": 39,
   "metadata": {},
   "outputs": [
    {
     "data": {
      "text/plain": [
       "<matplotlib.axes._subplots.AxesSubplot at 0x1cfebe806d8>"
      ]
     },
     "execution_count": 39,
     "metadata": {},
     "output_type": "execute_result"
    },
    {
     "data": {
      "image/png": "[encoded data removed]",
      "text/plain": [
       "<matplotlib.figure.Figure at 0x1cfec76fda0>"
      ]
     },
     "metadata": {},
     "output_type": "display_data"
    }
   ],
   "source": [
    "# review complaints received over time for 3 digit ZIP codes \n",
    "# where more than half of the population is Non-White\n",
    "# ----------------------------------------------------------------------------\n",
    "plt.rcParams['figure.figsize'] = (10, 6)\n",
    "\n",
    "nonwhite = df_complaints_and_census[df_complaints_and_census['More than half is Non-White'] == 1]\n",
    "\n",
    "dates = nonwhite['Date received'].to_frame()\n",
    "dates.columns = ['date']\n",
    "dates = pd.to_datetime(dates['date']).to_frame()\n",
    "dates.groupby([dates.date.dt.year, dates.date.dt.month]).count().plot()"
   ]
  },
  {
   "cell_type": "code",
   "execution_count": 46,
   "metadata": {
    "scrolled": true
   },
   "outputs": [
    {
     "data": {
      "text/plain": [
       "<matplotlib.axes._subplots.AxesSubplot at 0x1cf81104a58>"
      ]
     },
     "execution_count": 46,
     "metadata": {},
     "output_type": "execute_result"
    },
    {
     "data": {
      "image/png": "[encoded data removed]",
      "text/plain": [
       "<matplotlib.figure.Figure at 0x1cf8110a630>"
      ]
     },
     "metadata": {},
     "output_type": "display_data"
    }
   ],
   "source": [
    "# review complaints received over time for Product: Mortgage\n",
    "# ---------------------------------------------------------------------------\n",
    "plt.rcParams['figure.figsize'] = (10, 6)\n",
    "\n",
    "mortgages = df_complaints_and_census[df_complaints_and_census['Product'] == 'Mortgage']\n",
    "\n",
    "dates = mortgages['Date received'].to_frame()\n",
    "dates.columns = ['date']\n",
    "dates = pd.to_datetime(dates['date']).to_frame()\n",
    "dates.groupby([dates.date.dt.year, dates.date.dt.month]).count().plot()"
   ]
  },
  {
   "cell_type": "code",
   "execution_count": 44,
   "metadata": {},
   "outputs": [
    {
     "data": {
      "text/plain": [
       "<matplotlib.axes._subplots.AxesSubplot at 0x1cfea0b7630>"
      ]
     },
     "execution_count": 44,
     "metadata": {},
     "output_type": "execute_result"
    },
    {
     "data": {
      "image/png": "[encoded data removed]",
      "text/plain": [
       "<matplotlib.figure.Figure at 0x1cf811c4208>"
      ]
     },
     "metadata": {},
     "output_type": "display_data"
    }
   ],
   "source": [
    "# review complaints received over time for Product: Debt Collection\n",
    "# ----------------------------------------------------------------------------\n",
    "plt.rcParams['figure.figsize'] = (10, 6)\n",
    "\n",
    "debtcollection = df_complaints_and_census[df_complaints_and_census['Product'] == 'Debt collection']\n",
    "\n",
    "dates = debtcollection['Date received'].to_frame()\n",
    "dates.columns = ['date']\n",
    "dates = pd.to_datetime(dates['date']).to_frame()\n",
    "dates.groupby([dates.date.dt.year, dates.date.dt.month]).count().plot()"
   ]
  },
  {
   "cell_type": "code",
   "execution_count": 45,
   "metadata": {},
   "outputs": [
    {
     "data": {
      "text/plain": [
       "<matplotlib.axes._subplots.AxesSubplot at 0x1cf80c6e828>"
      ]
     },
     "execution_count": 45,
     "metadata": {},
     "output_type": "execute_result"
    },
    {
     "data": {
      "image/png": "[encoded data removed]",
      "text/plain": [
       "<matplotlib.figure.Figure at 0x1cf82047d30>"
      ]
     },
     "metadata": {},
     "output_type": "display_data"
    }
   ],
   "source": [
    "# review complaints received over time for Product: Credit reporting\n",
    "# ----------------------------------------------------------------------------\n",
    "plt.rcParams['figure.figsize'] = (10, 6)\n",
    "\n",
    "creditreporting = df_complaints_and_census[df_complaints_and_census['Product'] == 'Credit reporting']\n",
    "\n",
    "dates = creditreporting['Date received'].to_frame()\n",
    "dates.columns = ['date']\n",
    "dates = pd.to_datetime(dates['date']).to_frame()\n",
    "dates.groupby([dates.date.dt.year, dates.date.dt.month]).count().plot()"
   ]
  },
  {
   "cell_type": "code",
   "execution_count": 48,
   "metadata": {},
   "outputs": [
    {
     "data": {
      "text/plain": [
       "<matplotlib.axes._subplots.AxesSubplot at 0x1cffd70c710>"
      ]
     },
     "execution_count": 48,
     "metadata": {},
     "output_type": "execute_result"
    },
    {
     "data": {
      "image/png": "[encoded data removed]",
      "text/plain": [
       "<matplotlib.figure.Figure at 0x1cffdcb5390>"
      ]
     },
     "metadata": {},
     "output_type": "display_data"
    }
   ],
   "source": [
    "# review complaints received over time for Product: Bank account or service\n",
    "# ----------------------------------------------------------------------------\n",
    "plt.rcParams['figure.figsize'] = (10, 6)\n",
    "\n",
    "bankacctsvc = df_complaints_and_census[df_complaints_and_census['Product'] == 'Bank account or service']\n",
    "\n",
    "dates = bankacctsvc['Date received'].to_frame()\n",
    "dates.columns = ['date']\n",
    "dates = pd.to_datetime(dates['date']).to_frame()\n",
    "dates.groupby([dates.date.dt.year, dates.date.dt.month]).count().plot()"
   ]
  },
  {
   "cell_type": "code",
   "execution_count": 49,
   "metadata": {},
   "outputs": [
    {
     "data": {
      "text/plain": [
       "<matplotlib.axes._subplots.AxesSubplot at 0x1cffd751908>"
      ]
     },
     "execution_count": 49,
     "metadata": {},
     "output_type": "execute_result"
    },
    {
     "data": {
      "image/png": "[encoded data removed]",
      "text/plain": [
       "<matplotlib.figure.Figure at 0x1cf81d170f0>"
      ]
     },
     "metadata": {},
     "output_type": "display_data"
    }
   ],
   "source": [
    "# review complaints received over time for Product: Credit card\n",
    "# ----------------------------------------------------------------------------\n",
    "plt.rcParams['figure.figsize'] = (10, 6)\n",
    "\n",
    "creditcard = df_complaints_and_census[df_complaints_and_census['Product'] == 'Credit card']\n",
    "\n",
    "dates = creditcard['Date received'].to_frame()\n",
    "dates.columns = ['date']\n",
    "dates = pd.to_datetime(dates['date']).to_frame()\n",
    "dates.groupby([dates.date.dt.year, dates.date.dt.month]).count().plot()"
   ]
  },
  {
   "cell_type": "code",
   "execution_count": null,
   "metadata": {
    "collapsed": true
   },
   "outputs": [],
   "source": [
    "# demonstrate the Pareto principle via this chart of issues and their cumulative contribition to complaints\n",
    "from plotly.offline import download_plotlyjs, init_notebook_mode, iplot\n",
    "from plotly.graph_objs import *\n",
    "import plotly\n",
    "plotly.offline.init_notebook_mode()\n",
    "\n",
    "\n",
    "df = datasets[0]\n",
    "\n",
    "df['cumulative_sum'] = df.total.cumsum()\n",
    "df['cumulative_perc'] = 100*df.cumulative_sum/df.total.sum()\n",
    "\n",
    "df['demarcation'] = 80\n",
    "\n",
    "trace1 = Bar(\n",
    "    x=df.issue,\n",
    "    y=df.total,\n",
    "    name='Count',\n",
    "    marker=dict(\n",
    "        color='rgb(34,163,192)'\n",
    "               )\n",
    ")\n",
    "trace2 = Scatter(\n",
    "    x=df.issue,\n",
    "    y=df.cumulative_perc,\n",
    "    name='Cumulative Percentage',\n",
    "    yaxis='y2',\n",
    "    line=dict(\n",
    "        color='rgb(243,158,115)',\n",
    "        width=2.4\n",
    "       )\n",
    ")\n",
    "trace3 = Scatter(\n",
    "    x=df.issue,\n",
    "    y=df.demarcation,\n",
    "    name='80%',\n",
    "    yaxis='y2',\n",
    "    line=dict(\n",
    "        color='rgba(128,128,128,.45)',\n",
    "        dash = 'dash',\n",
    "        width=1.5\n",
    "       )\n",
    ")\n",
    "data = [trace1, trace2,trace3]\n",
    "layout = Layout(\n",
    "    title='Consumer Financial Protection Bureau: Consumer Complaints',\n",
    "    titlefont=dict(\n",
    "        color='',\n",
    "        family='',\n",
    "        size=0\n",
    "    ),\n",
    "    font=Font(\n",
    "        color='rgb(128,128,128)',\n",
    "        family='Balto, sans-serif',\n",
    "        size=12\n",
    "    ),\n",
    "    width=1500,\n",
    "    height=623,\n",
    "    paper_bgcolor='rgb(240, 240, 240)',\n",
    "    plot_bgcolor='rgb(240, 240, 240)',\n",
    "    hovermode='compare',\n",
    "    margin=dict(b=250,l=60,r=60,t=65),\n",
    "    showlegend=True,\n",
    "       legend=dict(\n",
    "          x=.83,\n",
    "          y=1.3,\n",
    "          font=dict(\n",
    "            family='Balto, sans-serif',\n",
    "            size=12,\n",
    "            color='rgba(128,128,128,.75)'\n",
    "        ),\n",
    "    ),\n",
    "    annotations=[ dict(\n",
    "                  text=\"Cumulative Percentage\",\n",
    "                  showarrow=False,\n",
    "                  xref=\"paper\", yref=\"paper\",\n",
    "                  textangle=90,\n",
    "                  x=1.029, y=.75,\n",
    "                  font=dict(\n",
    "                  family='Balto, sans-serif',\n",
    "                  size=14,\n",
    "                  color='rgba(243,158,115,.9)'\n",
    "            ),)],\n",
    "    xaxis=dict(\n",
    "      tickangle=-90\n",
    "    ),\n",
    "    yaxis=dict(\n",
    "        title='Count',\n",
    "        range=[0,30300],\n",
    "      tickfont=dict(\n",
    "            color='rgba(34,163,192,.75)'\n",
    "        ),\n",
    "      tickvals = [0,6000,12000,18000,24000,30000],\n",
    "        titlefont=dict(\n",
    "                family='Balto, sans-serif',\n",
    "                size=14,\n",
    "                color='rgba(34,163,192,.75)')\n",
    "    ),\n",
    "    yaxis2=dict(\n",
    "        range=[0,101],\n",
    "        tickfont=dict(\n",
    "            color='rgba(243,158,115,.9)'\n",
    "        ),\n",
    "        tickvals = [0,20,40,60,80,100],\n",
    "        overlaying='y',\n",
    "        side='right'\n",
    "    )\n",
    ")\n",
    "\n",
    "fig = dict(data=data, layout=layout)\n",
    "iplot(fig)"
   ]
  },
  {
   "cell_type": "markdown",
   "metadata": {},
   "source": [
    "# ANDREW / ROBIN  --  NEED HELP TO IMPLEMENT CODE TO ASSIGN A \"SCORE\" TO EACH COMPANY\n",
    "\n",
    "The revised formula I shared with him is shown below with weighting parameters in bold:\n",
    "\n",
    "((1 – Cp) X 100 X 0.8)  +  ((1 – Cp) X 100 X 0.1 X TRp)  +  ((1 – Cp) X 100 X 0.1 X (1 – CDp))\n",
    "\n",
    "· Cp (Complaints Percentage)  =  # of complaints for company / total # of complaints\n",
    "\n",
    "· TRp  (Timely Resolution Percentage)  =  # of complaints for company marked as Timely Response = Yes / # of complaints for company\n",
    "\n",
    "· CDp (Consumer Disputed Percentage)  =  # of complaints for company marked as Consumer Disputed = Yes / # of complaints for company\n"
   ]
  },
  {
   "cell_type": "code",
   "execution_count": null,
   "metadata": {
    "collapsed": true
   },
   "outputs": [],
   "source": [
    "# WE NEED SOME CODE HERE TO SHOW HOW WE SELECTED THE PARAMETERS FOR WEIGHTING... THE '0.8'  '0.1' AND '0.1'\n",
    "# I assigned an 80% weighting to the measure of a companies complaint %\n",
    "# I assigned a 10% weighting to the measure of a companies timely respone %\n",
    "# I assigned a 10% weighting to the measure of a companies consumer disputed %\n",
    "#\n",
    "# randy said to show some code/math that shows why these parmeters were selected.\n",
    "# he mentioned that PCA may help identify appropriate parameters\n"
   ]
  },
  {
   "cell_type": "code",
   "execution_count": null,
   "metadata": {
    "collapsed": true
   },
   "outputs": [],
   "source": [
    "# CODE HERE TO LIST COMPANIES RANKED BY ABOVE FORMULA"
   ]
  },
  {
   "cell_type": "markdown",
   "metadata": {},
   "source": [
    "---"
   ]
  },
  {
   "cell_type": "code",
   "execution_count": 73,
   "metadata": {},
   "outputs": [
    {
     "data": {
      "text/plain": [
       "909947"
      ]
     },
     "execution_count": 73,
     "metadata": {},
     "output_type": "execute_result"
    }
   ],
   "source": [
    "# ALL OF THE FOLLOWING SHOULD BE DOABLE USING DATAFRAMES AND THE PIVOT_TABLE METHOD....\n",
    "# ----------------------------------------------------------------------------------------\n",
    "total_complaints = len(df_complaints_and_census)\n",
    "total_complaints"
   ]
  },
  {
   "cell_type": "code",
   "execution_count": 53,
   "metadata": {},
   "outputs": [
    {
     "data": {
      "text/plain": [
       "EQUIFAX, INC.                                              71069\n",
       "BANK OF AMERICA, NATIONAL ASSOCIATION                      70658\n",
       "Experian Information Solutions Inc.                        59809\n",
       "WELLS FARGO & COMPANY                                      58596\n",
       "TRANSUNION INTERMEDIATE HOLDINGS, INC.                     54161\n",
       "JPMORGAN CHASE & CO.                                       47471\n",
       "CITIBANK, N.A.                                             38598\n",
       "OCWEN LOAN SERVICING LLC                                   25522\n",
       "CAPITAL ONE FINANCIAL CORPORATION                          23613\n",
       "Navient Solutions, LLC.                                    21967\n",
       "NATIONSTAR MORTGAGE                                        17577\n",
       "SYNCHRONY FINANCIAL                                        15217\n",
       "U.S. BANCORP                                               13713\n",
       "Ditech Financial LLC                                       12377\n",
       "AMERICAN EXPRESS COMPANY                                    9618\n",
       "PNC Bank N.A.                                               9481\n",
       "ENCORE CAPITAL GROUP INC.                                   8786\n",
       "HSBC NORTH AMERICA HOLDINGS INC.                            7543\n",
       "DISCOVER BANK                                               7442\n",
       "SUNTRUST BANKS, INC.                                        6914\n",
       "TD BANK US HOLDING COMPANY                                  6795\n",
       "SELECT PORTFOLIO SERVICING, INC.                            6578\n",
       "PORTFOLIO RECOVERY ASSOCIATES INC                           6412\n",
       "AES/PHEAA                                                   5325\n",
       "BARCLAYS BANK DELAWARE                                      4926\n",
       "ERC                                                         4681\n",
       "CITIZENS FINANCIAL GROUP, INC.                              4504\n",
       "FIFTH THIRD FINANCIAL CORPORATION                           4102\n",
       "Seterus, Inc.                                               4028\n",
       "ALLY FINANCIAL INC.                                         3929\n",
       "                                                           ...  \n",
       "The Collection Bureau Inc.                                     1\n",
       "Clarksville Mortgage Corporation                               1\n",
       "APEX HOME LOANS                                                1\n",
       "NEW WORLD COLLECTIONS, INC.                                    1\n",
       "Silver Cloud Financial, Inc                                    1\n",
       "Investment Evolution Corporation                               1\n",
       "Consumer Receivables Management LLC                            1\n",
       "Dearden's                                                      1\n",
       "Surf Consultants, Inc.                                         1\n",
       "Creditmax Collection Agency, Inc. d/b/a Creditmax, Inc.        1\n",
       "Cheryl A. Warzynski PLLC                                       1\n",
       "Bierer Law Group, PA                                           1\n",
       "FIRST PRIORITY MORTGAGE, INC.                                  1\n",
       "BON TERRE CREDIT, LLC                                          1\n",
       "Wheel City Motors East, Inc.                                   1\n",
       "Coast to Coast Commercial Collection                           1\n",
       "Jonsue, LLC                                                    1\n",
       "NSH Partnership                                                1\n",
       "Financial Solution Providers LLC                               1\n",
       "West One Capital Group Inc.                                    1\n",
       "AMERICAN FAMILY FUNDING GROUP Inc.                             1\n",
       "Maryville Collection Service Incorporated                      1\n",
       "Integrated Asset Recovery LLC                                  1\n",
       "Tritium Card Services, Inc.                                    1\n",
       "Universal Capital Services, Inc.                               1\n",
       "Headwaters Financial Corp.                                     1\n",
       "Credence Funding Corporation                                   1\n",
       "Michael J Adams PC                                             1\n",
       "J & B Endeavors, LLC                                           1\n",
       "QUIK FUND INC.                                                 1\n",
       "Name: Company, Length: 4526, dtype: int64"
      ]
     },
     "execution_count": 53,
     "metadata": {},
     "output_type": "execute_result"
    }
   ],
   "source": [
    "# CODE HERE TO LIST COMPANIES RANKED BY NUMBER OF COMPLAINTS\n",
    "df_complaints_and_census['Company'].value_counts()"
   ]
  },
  {
   "cell_type": "code",
   "execution_count": 81,
   "metadata": {},
   "outputs": [
    {
     "data": {
      "text/html": [
       "<div>\n",
       "<style>\n",
       "    .dataframe thead tr:only-child th {\n",
       "        text-align: right;\n",
       "    }\n",
       "\n",
       "    .dataframe thead th {\n",
       "        text-align: left;\n",
       "    }\n",
       "\n",
       "    .dataframe tbody tr th {\n",
       "        vertical-align: top;\n",
       "    }\n",
       "</style>\n",
       "<table border=\"1\" class=\"dataframe\">\n",
       "  <thead>\n",
       "    <tr>\n",
       "      <th></th>\n",
       "      <th>Timely response?</th>\n",
       "    </tr>\n",
       "    <tr>\n",
       "      <th></th>\n",
       "      <th>len</th>\n",
       "    </tr>\n",
       "    <tr>\n",
       "      <th>Company</th>\n",
       "      <th></th>\n",
       "    </tr>\n",
       "  </thead>\n",
       "  <tbody>\n",
       "    <tr>\n",
       "      <th>(Former)Shapiro, Swertfeger &amp; Hasty, LLP</th>\n",
       "      <td>11</td>\n",
       "    </tr>\n",
       "    <tr>\n",
       "      <th>1 STOP MONEY CENTERS, LLC</th>\n",
       "      <td>1</td>\n",
       "    </tr>\n",
       "    <tr>\n",
       "      <th>1ST 2ND MORTGAGE CO. OF NJ INC</th>\n",
       "      <td>2</td>\n",
       "    </tr>\n",
       "    <tr>\n",
       "      <th>1ST ALLIANCE LENDING, LLC</th>\n",
       "      <td>19</td>\n",
       "    </tr>\n",
       "    <tr>\n",
       "      <th>1ST PREFERENCE MORTGAGE CORP</th>\n",
       "      <td>2</td>\n",
       "    </tr>\n",
       "    <tr>\n",
       "      <th>1st Capital Finance of South Carolina, Inc.</th>\n",
       "      <td>1</td>\n",
       "    </tr>\n",
       "    <tr>\n",
       "      <th>1st Capital Mortgage, LLC</th>\n",
       "      <td>1</td>\n",
       "    </tr>\n",
       "    <tr>\n",
       "      <th>1st Fidelity Loan Servicing</th>\n",
       "      <td>8</td>\n",
       "    </tr>\n",
       "    <tr>\n",
       "      <th>1st Financial, Inc.</th>\n",
       "      <td>1</td>\n",
       "    </tr>\n",
       "    <tr>\n",
       "      <th>1st Florida Lending CORP</th>\n",
       "      <td>1</td>\n",
       "    </tr>\n",
       "    <tr>\n",
       "      <th>1st Franklin Financial Corporation</th>\n",
       "      <td>64</td>\n",
       "    </tr>\n",
       "    <tr>\n",
       "      <th>1st Maryland Mortgage Corporation</th>\n",
       "      <td>2</td>\n",
       "    </tr>\n",
       "    <tr>\n",
       "      <th>1st Midwest Mortgage Corp</th>\n",
       "      <td>2</td>\n",
       "    </tr>\n",
       "    <tr>\n",
       "      <th>1st Money Center, Inc.</th>\n",
       "      <td>2</td>\n",
       "    </tr>\n",
       "    <tr>\n",
       "      <th>1st Portfolio Holding Corporation</th>\n",
       "      <td>1</td>\n",
       "    </tr>\n",
       "    <tr>\n",
       "      <th>21ST MORTGAGE CORP.</th>\n",
       "      <td>360</td>\n",
       "    </tr>\n",
       "    <tr>\n",
       "      <th>2233 Paradise Road LLC</th>\n",
       "      <td>8</td>\n",
       "    </tr>\n",
       "    <tr>\n",
       "      <th>2288984 Ontario Inc.</th>\n",
       "      <td>44</td>\n",
       "    </tr>\n",
       "    <tr>\n",
       "      <th>24 Asset Management Corp</th>\n",
       "      <td>5</td>\n",
       "    </tr>\n",
       "    <tr>\n",
       "      <th>245 Holdings LLC</th>\n",
       "      <td>1</td>\n",
       "    </tr>\n",
       "    <tr>\n",
       "      <th>360 MORTGAGE GROUP LLC</th>\n",
       "      <td>74</td>\n",
       "    </tr>\n",
       "    <tr>\n",
       "      <th>3rd Generation, Inc.</th>\n",
       "      <td>27</td>\n",
       "    </tr>\n",
       "    <tr>\n",
       "      <th>4 Star Resolution LLC (Closed)</th>\n",
       "      <td>29</td>\n",
       "    </tr>\n",
       "    <tr>\n",
       "      <th>4M Collections, LLC</th>\n",
       "      <td>15</td>\n",
       "    </tr>\n",
       "    <tr>\n",
       "      <th>99th Floor LLC</th>\n",
       "      <td>1</td>\n",
       "    </tr>\n",
       "    <tr>\n",
       "      <th>A &amp; E Futures LLC</th>\n",
       "      <td>10</td>\n",
       "    </tr>\n",
       "    <tr>\n",
       "      <th>A &amp; O Recovery Solutions, LLC</th>\n",
       "      <td>10</td>\n",
       "    </tr>\n",
       "    <tr>\n",
       "      <th>A &amp; S Collection Associates, Inc.</th>\n",
       "      <td>7</td>\n",
       "    </tr>\n",
       "    <tr>\n",
       "      <th>A Top Golden Lending</th>\n",
       "      <td>1</td>\n",
       "    </tr>\n",
       "    <tr>\n",
       "      <th>A+ Financial Services, Inc.</th>\n",
       "      <td>2</td>\n",
       "    </tr>\n",
       "    <tr>\n",
       "      <th>...</th>\n",
       "      <td>...</td>\n",
       "    </tr>\n",
       "    <tr>\n",
       "      <th>ZARVAD III S.A.</th>\n",
       "      <td>68</td>\n",
       "    </tr>\n",
       "    <tr>\n",
       "      <th>ZENCO COLLECTION, LLC</th>\n",
       "      <td>69</td>\n",
       "    </tr>\n",
       "    <tr>\n",
       "      <th>ZINC Financial, Inc.,</th>\n",
       "      <td>3</td>\n",
       "    </tr>\n",
       "    <tr>\n",
       "      <th>ZIONS BANCORPORATION</th>\n",
       "      <td>350</td>\n",
       "    </tr>\n",
       "    <tr>\n",
       "      <th>ZOA, LLC</th>\n",
       "      <td>6</td>\n",
       "    </tr>\n",
       "    <tr>\n",
       "      <th>ZWICKER &amp; ASSOCIATES</th>\n",
       "      <td>207</td>\n",
       "    </tr>\n",
       "    <tr>\n",
       "      <th>Zakheim Law Group, P.A.</th>\n",
       "      <td>30</td>\n",
       "    </tr>\n",
       "    <tr>\n",
       "      <th>Zarzaur and Schwartz, PC</th>\n",
       "      <td>9</td>\n",
       "    </tr>\n",
       "    <tr>\n",
       "      <th>Zbest Cars, Inc.</th>\n",
       "      <td>1</td>\n",
       "    </tr>\n",
       "    <tr>\n",
       "      <th>Zealandia Holding Company, Inc.</th>\n",
       "      <td>6</td>\n",
       "    </tr>\n",
       "    <tr>\n",
       "      <th>Zeidmanâ€™s Jewelry &amp; Loan of Michigan</th>\n",
       "      <td>1</td>\n",
       "    </tr>\n",
       "    <tr>\n",
       "      <th>Zeller &amp; Associates, LLC</th>\n",
       "      <td>9</td>\n",
       "    </tr>\n",
       "    <tr>\n",
       "      <th>Zenith Financial &amp; Insurance Solutions Inc.</th>\n",
       "      <td>1</td>\n",
       "    </tr>\n",
       "    <tr>\n",
       "      <th>Zenith Financial Mortgage Company, Inc.</th>\n",
       "      <td>1</td>\n",
       "    </tr>\n",
       "    <tr>\n",
       "      <th>Zenith Financial Network Inc</th>\n",
       "      <td>53</td>\n",
       "    </tr>\n",
       "    <tr>\n",
       "      <th>ZestFinance</th>\n",
       "      <td>7</td>\n",
       "    </tr>\n",
       "    <tr>\n",
       "      <th>Zeus Mortgage, Ltd.</th>\n",
       "      <td>2</td>\n",
       "    </tr>\n",
       "    <tr>\n",
       "      <th>Zimmerman &amp; Zimmerman, P.A.</th>\n",
       "      <td>1</td>\n",
       "    </tr>\n",
       "    <tr>\n",
       "      <th>Zingo Cash Illinois LLC</th>\n",
       "      <td>4</td>\n",
       "    </tr>\n",
       "    <tr>\n",
       "      <th>Zip Capital Group, LLC</th>\n",
       "      <td>2</td>\n",
       "    </tr>\n",
       "    <tr>\n",
       "      <th>eCon Credit LP</th>\n",
       "      <td>2</td>\n",
       "    </tr>\n",
       "    <tr>\n",
       "      <th>eMoneyUSA Holdings, LLC</th>\n",
       "      <td>5</td>\n",
       "    </tr>\n",
       "    <tr>\n",
       "      <th>i3 Lending, Inc</th>\n",
       "      <td>2</td>\n",
       "    </tr>\n",
       "    <tr>\n",
       "      <th>iCollect.com, Corp.</th>\n",
       "      <td>1</td>\n",
       "    </tr>\n",
       "    <tr>\n",
       "      <th>iFreedom Direct Corporation</th>\n",
       "      <td>17</td>\n",
       "    </tr>\n",
       "    <tr>\n",
       "      <th>iQuantified Management Services, LLC</th>\n",
       "      <td>6</td>\n",
       "    </tr>\n",
       "    <tr>\n",
       "      <th>iServe Trust</th>\n",
       "      <td>9</td>\n",
       "    </tr>\n",
       "    <tr>\n",
       "      <th>loanDepot.com, LLC</th>\n",
       "      <td>495</td>\n",
       "    </tr>\n",
       "    <tr>\n",
       "      <th>reekside Recovery And Capital Management</th>\n",
       "      <td>24</td>\n",
       "    </tr>\n",
       "    <tr>\n",
       "      <th>Â Lippman Recupero, LLC</th>\n",
       "      <td>5</td>\n",
       "    </tr>\n",
       "  </tbody>\n",
       "</table>\n",
       "<p>4526 rows × 1 columns</p>\n",
       "</div>"
      ],
      "text/plain": [
       "                                            Timely response?\n",
       "                                                         len\n",
       "Company                                                     \n",
       "(Former)Shapiro, Swertfeger & Hasty, LLP                  11\n",
       "1 STOP MONEY CENTERS, LLC                                  1\n",
       "1ST 2ND MORTGAGE CO. OF NJ INC                             2\n",
       "1ST ALLIANCE LENDING, LLC                                 19\n",
       "1ST PREFERENCE MORTGAGE CORP                               2\n",
       "1st Capital Finance of South Carolina, Inc.                1\n",
       "1st Capital Mortgage, LLC                                  1\n",
       "1st Fidelity Loan Servicing                                8\n",
       "1st Financial, Inc.                                        1\n",
       "1st Florida Lending CORP                                   1\n",
       "1st Franklin Financial Corporation                        64\n",
       "1st Maryland Mortgage Corporation                          2\n",
       "1st Midwest Mortgage Corp                                  2\n",
       "1st Money Center, Inc.                                     2\n",
       "1st Portfolio Holding Corporation                          1\n",
       "21ST MORTGAGE CORP.                                      360\n",
       "2233 Paradise Road LLC                                     8\n",
       "2288984 Ontario Inc.                                      44\n",
       "24 Asset Management Corp                                   5\n",
       "245 Holdings LLC                                           1\n",
       "360 MORTGAGE GROUP LLC                                    74\n",
       "3rd Generation, Inc.                                      27\n",
       "4 Star Resolution LLC (Closed)                            29\n",
       "4M Collections, LLC                                       15\n",
       "99th Floor LLC                                             1\n",
       "A & E Futures LLC                                         10\n",
       "A & O Recovery Solutions, LLC                             10\n",
       "A & S Collection Associates, Inc.                          7\n",
       "A Top Golden Lending                                       1\n",
       "A+ Financial Services, Inc.                                2\n",
       "...                                                      ...\n",
       "ZARVAD III S.A.                                           68\n",
       "ZENCO COLLECTION, LLC                                     69\n",
       "ZINC Financial, Inc.,                                      3\n",
       "ZIONS BANCORPORATION                                     350\n",
       "ZOA, LLC                                                   6\n",
       "ZWICKER & ASSOCIATES                                     207\n",
       "Zakheim Law Group, P.A.                                   30\n",
       "Zarzaur and Schwartz, PC                                   9\n",
       "Zbest Cars, Inc.                                           1\n",
       "Zealandia Holding Company, Inc.                            6\n",
       "Zeidmanâ€™s Jewelry & Loan of Michigan                     1\n",
       "Zeller & Associates, LLC                                   9\n",
       "Zenith Financial & Insurance Solutions Inc.                1\n",
       "Zenith Financial Mortgage Company, Inc.                    1\n",
       "Zenith Financial Network Inc                              53\n",
       "ZestFinance                                                7\n",
       "Zeus Mortgage, Ltd.                                        2\n",
       "Zimmerman & Zimmerman, P.A.                                1\n",
       "Zingo Cash Illinois LLC                                    4\n",
       "Zip Capital Group, LLC                                     2\n",
       "eCon Credit LP                                             2\n",
       "eMoneyUSA Holdings, LLC                                    5\n",
       "i3 Lending, Inc                                            2\n",
       "iCollect.com, Corp.                                        1\n",
       "iFreedom Direct Corporation                               17\n",
       "iQuantified Management Services, LLC                       6\n",
       "iServe Trust                                               9\n",
       "loanDepot.com, LLC                                       495\n",
       "reekside Recovery And Capital Management                  24\n",
       "Â Lippman Recupero, LLC                                    5\n",
       "\n",
       "[4526 rows x 1 columns]"
      ]
     },
     "execution_count": 81,
     "metadata": {},
     "output_type": "execute_result"
    }
   ],
   "source": [
    "# CODE HERE TO LIST COMPANIES RANKED BY THEIR PERCENTAGE OF \"TIMELY RESPONSES\" (HIGHER % IS BETTER)\n",
    "#timely_response = pd.pivot_table(df_complaints_and_census,index=['Company'],values=['Timely response?'],aggfunc={len})\n",
    "#\n",
    "timely_response"
   ]
  },
  {
   "cell_type": "code",
   "execution_count": null,
   "metadata": {
    "collapsed": true
   },
   "outputs": [],
   "source": [
    "# CODE HERE TO LIST COMPANIES RANKED BY THEIR PERCENTAGE OF \"CONSUMER DISPUTED\" (LOWER % IS BETTER)"
   ]
  },
  {
   "cell_type": "code",
   "execution_count": null,
   "metadata": {
    "collapsed": true
   },
   "outputs": [],
   "source": [
    "# CODE HERE TO LIST \"PRODUCT\" RANKED BY NUMBER OF COMPLAINTS"
   ]
  },
  {
   "cell_type": "code",
   "execution_count": null,
   "metadata": {
    "collapsed": true
   },
   "outputs": [],
   "source": [
    "# CODE HERE TO LIST \"PRODUCT - SUB-PRODUCT\" RANKED BY NUMBER OF COMPLAINTS"
   ]
  },
  {
   "cell_type": "code",
   "execution_count": null,
   "metadata": {
    "collapsed": true
   },
   "outputs": [],
   "source": [
    "# CODE HERE TO LIST \"PRODUCT - ISSUE\" RANKED BY NUMBER OF COMPLAINTS"
   ]
  },
  {
   "cell_type": "code",
   "execution_count": null,
   "metadata": {
    "collapsed": true
   },
   "outputs": [],
   "source": [
    "# CODE HERE TO LIST \"PRODUCT - SUB-PRODUCT - ISSUE\" RANKED BY NUMBER OF COMPLAINTS"
   ]
  },
  {
   "cell_type": "code",
   "execution_count": null,
   "metadata": {
    "collapsed": true
   },
   "outputs": [],
   "source": [
    "# CODE HERE TO LIST \"PRODUCT - SUB-PRODUCT - ISSUE - SUB-ISSUE\" RANKED BY NUMBER OF COMPLAINTS"
   ]
  },
  {
   "cell_type": "code",
   "execution_count": 1,
   "metadata": {
    "collapsed": true
   },
   "outputs": [],
   "source": [
    "# CODE HERE FOR DEMO --- PROFILE A SPECIFIC COMPANY\n",
    "#\n",
    "#"
   ]
  },
  {
   "cell_type": "code",
   "execution_count": null,
   "metadata": {
    "collapsed": true
   },
   "outputs": [],
   "source": []
  },
  {
   "cell_type": "code",
   "execution_count": null,
   "metadata": {
    "collapsed": true
   },
   "outputs": [],
   "source": []
  },
  {
   "cell_type": "code",
   "execution_count": null,
   "metadata": {
    "collapsed": true
   },
   "outputs": [],
   "source": []
  },
  {
   "cell_type": "markdown",
   "metadata": {},
   "source": [
    "*------------------------\n",
    "\n",
    "### Problem 4: Prepare a 90 second Pitch and *present* it in the class (20 points)\n",
    "\n",
    "* Prepare the slide(s) for the Pitch (10 points)\n",
    "* Present it in the class (10 points).\n",
    "\n",
    "*Advice:  It should really only be one or two slides, but a really good one or two slides!  Also, it is ok to select one person on the team to give the 90 second pitch (though a very organized multi-person 90 second pitch can be very impressive!) *\n",
    "\n"
   ]
  },
  {
   "cell_type": "markdown",
   "metadata": {},
   "source": [
    "# Report: communicate the results (20 points)\n",
    "\n",
    "(1) (5 points) What is your business proposition?\n",
    "\n",
    "(2) (5 points) Why this topic is interesting or important to you? (Motivations)\n",
    "\n",
    "(3) (5 points) How did you analyse the data?\n",
    "\n",
    "(4) (5 points) How does your analysis support your business proposition?\n",
    "(please include figures or tables in the report, but no source code)"
   ]
  },
  {
   "cell_type": "markdown",
   "metadata": {},
   "source": [
    "# Slides (for 10 minutes of presentation) (20 points)\n",
    "\n",
    "\n",
    "1. (5 points) Motivation about the data collection, why the topic is interesting to you. \n",
    "\n",
    "2. (10 points) Communicating Results (figure/table)\n",
    "\n",
    "3. (5 points) Story telling (How all the parts (data, analysis, result) fit together as a story?)"
   ]
  },
  {
   "cell_type": "markdown",
   "metadata": {},
   "source": [
    "*-----------------\n",
    "# Done\n",
    "\n",
    "All set! \n",
    "\n",
    "** What do you need to submit?**\n",
    "\n",
    "* **Notebook File**: Save this IPython notebook, and find the notebook file in your folder (for example, \"filename.ipynb\"). This is the file you need to submit. Please make sure all the plotted tables and figures are in the notebook. If you used \"ipython notebook --pylab=inline\" to open the notebook, all the figures and tables should have shown up in the notebook.\n",
    "\n",
    "\n",
    "* **PPT Slides**: **NOTE, for this Case Study you need to prepare two (2) PPT files!**  One for the 90 second Pitch and one for a normal 10 minute presentation.\n",
    "\n",
    "* ** Report**: please prepare a report (less than 10 pages) to report what you found in the data.\n",
    "\n",
    "     (please include figures or tables in the report, **but no source code**)\n",
    "\n",
    "*Please compress all the files into a single zipped file.*\n",
    "\n",
    "\n",
    "** How to submit: **\n",
    "\n",
    "        Please submit through email to Prof. Paffenroth (rcpaffenroth@wpi.edu) *and* the TA Yingnan Liu (yliu18@wpi.edu).\n",
    "\n",
    "#### We auto-process the submissions so make sure your subject line is *exactly*:\n",
    "\n",
    "### DS501 Case Study 4 Team ??\n",
    "\n",
    "#### where ?? is your team number.\n",
    "        \n",
    "** Note: Each team just needs to submits one submission **"
   ]
  },
  {
   "cell_type": "code",
   "execution_count": null,
   "metadata": {
    "collapsed": true
   },
   "outputs": [],
   "source": []
  }
 ],
 "metadata": {
  "kernelspec": {
   "display_name": "Python 3",
   "language": "python",
   "name": "python3"
  },
  "language_info": {
   "codemirror_mode": {
    "name": "ipython",
    "version": 3
   },
   "file_extension": ".py",
   "mimetype": "text/x-python",
   "name": "python",
   "nbconvert_exporter": "python",
   "pygments_lexer": "ipython3",
   "version": "3.6.1"
  }
 },
 "nbformat": 4,
 "nbformat_minor": 1
}
